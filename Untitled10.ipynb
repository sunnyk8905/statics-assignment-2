{
 "cells": [
  {
   "cell_type": "code",
   "execution_count": null,
   "id": "6bfcac00-632e-44ca-81de-709ac23f2ab1",
   "metadata": {},
   "outputs": [],
   "source": [
    "Q1. What is the Probability density function?"
   ]
  },
  {
   "cell_type": "code",
   "execution_count": null,
   "id": "6f5279e3-fc8d-4c80-81b2-dd427d3780a5",
   "metadata": {},
   "outputs": [],
   "source": [
    "The Probability Density Function (PDF) is a fundamental concept in probability theory and statistics. It describes the \n",
    "likelihood of a continuous random variable taking on a specific value within a given range. "
   ]
  },
  {
   "cell_type": "code",
   "execution_count": null,
   "id": "9948a1c6-1c69-451b-848a-6210a4f134fe",
   "metadata": {},
   "outputs": [],
   "source": [
    "Q2. What are the types of Probability distribution?"
   ]
  },
  {
   "cell_type": "code",
   "execution_count": null,
   "id": "28acd13c-6a64-445c-bf4e-017d187c86a6",
   "metadata": {},
   "outputs": [],
   "source": [
    "Bernoulli Distribution,Binomial Distribution,Poisson Distribution,Uniform Distribution,Normal Distribution \n",
    "log normal distribution."
   ]
  },
  {
   "cell_type": "code",
   "execution_count": null,
   "id": "1d281b8c-9143-4411-922f-2219ed14593d",
   "metadata": {},
   "outputs": [],
   "source": [
    "Q3. Write a Python function to calculate the probability density function of a normal distribution with\n",
    "given mean and standard deviation at a given point."
   ]
  },
  {
   "cell_type": "code",
   "execution_count": null,
   "id": "7b660434-e863-413e-8505-c45e0d2bff78",
   "metadata": {},
   "outputs": [],
   "source": [
    "In normal distibution ,\n",
    "           pdf=(1 / (σ * √(2 * π))) * e^((-1/2) * ((x - μ) / σ)^2)"
   ]
  },
  {
   "cell_type": "code",
   "execution_count": 1,
   "id": "c06c69c0-9113-498f-8640-4a3906ea07dd",
   "metadata": {},
   "outputs": [
    {
     "name": "stdout",
     "output_type": "stream",
     "text": [
      "PDF at x = 1.5 : 0.12951759566589174\n"
     ]
    }
   ],
   "source": [
    "import math\n",
    "\n",
    "def normal_pdf(x, mean, std_dev):\n",
    "    \"\"\"\n",
    "    Calculate the probability density function (PDF) of a normal distribution.\n",
    "\n",
    "    Parameters:\n",
    "        x (float): The value at which to calculate the PDF.\n",
    "        mean (float): The mean (μ) of the normal distribution.\n",
    "        std_dev (float): The standard deviation (σ) of the normal distribution.\n",
    "\n",
    "    Returns:\n",
    "        float: The PDF of the normal distribution at the given point x.\n",
    "    \"\"\"\n",
    "    if std_dev <= 0:\n",
    "        raise ValueError(\"Standard deviation (std_dev) must be a positive number.\")\n",
    "\n",
    "    coefficient = 1 / (std_dev * math.sqrt(2 * math.pi))\n",
    "    exponent = -0.5 * ((x - mean) / std_dev) ** 2\n",
    "    pdf = coefficient * math.exp(exponent)\n",
    "    return pdf\n",
    "\n",
    "# Example usage:\n",
    "mean = 0.0\n",
    "std_dev = 1.0\n",
    "x_value = 1.5\n",
    "pdf_value = normal_pdf(x_value, mean, std_dev)\n",
    "print(\"PDF at x =\", x_value, \":\", pdf_value)\n"
   ]
  },
  {
   "cell_type": "code",
   "execution_count": null,
   "id": "bca074e8-309a-44de-85a8-ca0ea7f7e341",
   "metadata": {},
   "outputs": [],
   "source": [
    "Q4. What are the properties of Binomial distribution? Give two examples of events where binomial\n",
    "distribution can be applied."
   ]
  },
  {
   "cell_type": "code",
   "execution_count": null,
   "id": "6ca08040-4269-4feb-aff1-f55d63110934",
   "metadata": {},
   "outputs": [],
   "source": [
    "The propertties of Binomial distribution are\n",
    "1)Fixed Number of Trials\n",
    "2)Independent Trials\n",
    "3) Two Possible Outcomes(binary no.)\n",
    "4) Discrete Distribution\n",
    "\n",
    "example:-1)tossing a coin\n",
    "        2)Quality Control"
   ]
  },
  {
   "cell_type": "code",
   "execution_count": null,
   "id": "6e162c40-8195-423c-9e07-e14fa6415dea",
   "metadata": {},
   "outputs": [],
   "source": [
    "Q5. Generate a random sample of size 1000 from a binomial distribution with probability of success 0.4\n",
    "and plot a histogram of the results using matplotlib."
   ]
  },
  {
   "cell_type": "code",
   "execution_count": 4,
   "id": "01c0fb20-3614-40a2-be82-d1fbc354cecf",
   "metadata": {},
   "outputs": [
    {
     "ename": "SyntaxError",
     "evalue": "invalid syntax (2629995517.py, line 1)",
     "output_type": "error",
     "traceback": [
      "\u001b[0;36m  Cell \u001b[0;32mIn[4], line 1\u001b[0;36m\u001b[0m\n\u001b[0;31m    pip install numpy\u001b[0m\n\u001b[0m        ^\u001b[0m\n\u001b[0;31mSyntaxError\u001b[0m\u001b[0;31m:\u001b[0m invalid syntax\n"
     ]
    }
   ],
   "source": [
    "pip install numpy\n",
    "pip install matplotlib"
   ]
  },
  {
   "cell_type": "code",
   "execution_count": 5,
   "id": "e047389e-ae47-4759-b034-0a833a0736ca",
   "metadata": {},
   "outputs": [
    {
     "data": {
      "image/png": "[encoded data removed]",
      "text/plain": [
       "<Figure size 640x480 with 1 Axes>"
      ]
     },
     "metadata": {},
     "output_type": "display_data"
    }
   ],
   "source": [
    "import numpy as np\n",
    "import matplotlib.pyplot as plt\n",
    "\n",
    "\n",
    "n = 1000  \n",
    "p = 0.4   \n",
    "\n",
    "\n",
    "random_sample = np.random.binomial(n, p, size=1000)\n",
    "\n",
    "\n",
    "plt.hist(random_sample, bins=20, density=True, color='skyblue', edgecolor='black')\n",
    "plt.title('Histogram of Random Sample from Binomial Distribution')\n",
    "plt.xlabel('Number of Successes')\n",
    "plt.ylabel('Frequency')\n",
    "plt.show()\n"
   ]
  },
  {
   "cell_type": "code",
   "execution_count": null,
   "id": "50379595-3ba9-4944-9642-a55f8e04a48a",
   "metadata": {},
   "outputs": [],
   "source": [
    "Q6. Write a Python function to calculate the cumulative distribution function of a Poisson distribution\n",
    "with given mean at a given point."
   ]
  },
  {
   "cell_type": "code",
   "execution_count": null,
   "id": "c4eb479c-89b4-4a51-a265-e06fea8628e9",
   "metadata": {},
   "outputs": [],
   "source": [
    "The CDF of a Poisson distribution at a point \"k\" is calculated as follows:\n",
    "\n",
    "CDF(k; λ) = Σ (e^(-λ) * (λ^i) / i!) for i = 0 to k"
   ]
  },
  {
   "cell_type": "code",
   "execution_count": 6,
   "id": "c8ee5f50-930f-49cd-9ca6-cb13f9c6ba48",
   "metadata": {},
   "outputs": [
    {
     "name": "stdout",
     "output_type": "stream",
     "text": [
      "CDF at k = 2 : 0.3208471988621341\n"
     ]
    }
   ],
   "source": [
    "import math\n",
    "\n",
    "def poisson_cdf(k, mean):\n",
    "    \"\"\"\n",
    "    Calculate the Cumulative Distribution Function (CDF) of a Poisson distribution.\n",
    "\n",
    "    Parameters:\n",
    "        k (int): The value at which to calculate the CDF.\n",
    "        mean (float): The mean (λ) of the Poisson distribution.\n",
    "\n",
    "    Returns:\n",
    "        float: The CDF of the Poisson distribution at the given point k.\n",
    "    \"\"\"\n",
    "    if mean <= 0:\n",
    "        raise ValueError(\"Mean (λ) must be a positive number.\")\n",
    "\n",
    "    cdf = 0.0\n",
    "    for i in range(k + 1):\n",
    "        cdf += math.exp(-mean) * (mean ** i) / math.factorial(i)\n",
    "    \n",
    "    return cdf\n",
    "\n",
    "# Example usage:\n",
    "mean = 3.5\n",
    "k_value = 2\n",
    "cdf_value = poisson_cdf(k_value, mean)\n",
    "print(\"CDF at k =\", k_value, \":\", cdf_value)\n"
   ]
  },
  {
   "cell_type": "code",
   "execution_count": null,
   "id": "bef812e1-cd59-4edf-b672-b5b87f606d6a",
   "metadata": {},
   "outputs": [],
   "source": [
    "Q7. How Binomial distribution different from Poisson distribution?"
   ]
  },
  {
   "cell_type": "code",
   "execution_count": null,
   "id": "a557f286-1b2a-4535-8967-eb45eed0cdf5",
   "metadata": {},
   "outputs": [],
   "source": [
    "*Binomial Distribution: The Binomial distribution is used when there are a fixed number of independent trials, and each trial \n",
    "has only two possible outcomes (success or failure). The probability of success remains constant across all trials.\n",
    "\n",
    "*Poisson Distribution: The Poisson distribution is used to model the number of events occurring in a fixed interval of time or \n",
    "space when events happen randomly and independently. There is no fixed number of trials; the events can occur any number \n",
    "of times."
   ]
  },
  {
   "cell_type": "code",
   "execution_count": null,
   "id": "f7023844-a53f-4646-bad6-738c8c5b2b0c",
   "metadata": {},
   "outputs": [],
   "source": [
    "Q8. Generate a random sample of size 1000 from a Poisson distribution with mean 5 and calculate the\n",
    "sample mean and variance."
   ]
  },
  {
   "cell_type": "code",
   "execution_count": 7,
   "id": "30494eff-a8e7-49d2-a28b-d351e99b9ee9",
   "metadata": {},
   "outputs": [
    {
     "name": "stdout",
     "output_type": "stream",
     "text": [
      "Sample Mean: 5.031\n",
      "Sample Variance: 5.035074074074074\n"
     ]
    }
   ],
   "source": [
    "import numpy as np\n",
    "\n",
    "\n",
    "mean = 5\n",
    "\n",
    "\n",
    "random_sample = np.random.poisson(mean, size=1000)\n",
    "\n",
    "\n",
    "sample_mean = np.mean(random_sample)\n",
    "sample_variance = np.var(random_sample, ddof=1)  \n",
    "\n",
    "print(\"Sample Mean:\", sample_mean)\n",
    "print(\"Sample Variance:\", sample_variance)\n"
   ]
  },
  {
   "cell_type": "code",
   "execution_count": null,
   "id": "7490620e-3eaf-4001-b0c1-c48bc26a4893",
   "metadata": {},
   "outputs": [],
   "source": [
    "Q9. How mean and variance are related in Binomial distribution and Poisson distribution?"
   ]
  },
  {
   "cell_type": "code",
   "execution_count": null,
   "id": "84223ad1-e011-43e2-bae9-fbbad0a1173b",
   "metadata": {},
   "outputs": [],
   "source": [
    "Binomial Distribution:\n",
    "For a Binomial distribution with parameters \"n\" (number of trials) and \"p\" (probability of success in each trial), \n",
    "the mean (μ) and variance (σ^2) are related as follows:\n",
    "\n",
    "Mean (μ) = n * p\n",
    "Variance (σ^2) = n * p * (1 - p)\n",
    "\n",
    "Poisson Distribution:\n",
    "For a Poisson distribution with parameter \"λ\" (average rate of events in a fixed interval), the mean (μ) and variance (σ^2) \n",
    "are related as follows:\n",
    "\n",
    "\n",
    "Mean (μ) = λ\n",
    "Variance (σ^2) = λ"
   ]
  },
  {
   "cell_type": "code",
   "execution_count": null,
   "id": "1a6f0a1d-556b-493a-af9d-228559811587",
   "metadata": {},
   "outputs": [],
   "source": [
    "Q10. In normal distribution with respect to mean position, where does the least frequent data appear?"
   ]
  },
  {
   "cell_type": "code",
   "execution_count": null,
   "id": "04f8f478-bffd-4fe8-8ad9-133e5b16f8a6",
   "metadata": {},
   "outputs": [],
   "source": [
    "the least frequent data points appear in the tails of the distribution."
   ]
  }
 ],
 "metadata": {
  "kernelspec": {
   "display_name": "Python 3 (ipykernel)",
   "language": "python",
   "name": "python3"
  },
  "language_info": {
   "codemirror_mode": {
    "name": "ipython",
    "version": 3
   },
   "file_extension": ".py",
   "mimetype": "text/x-python",
   "name": "python",
   "nbconvert_exporter": "python",
   "pygments_lexer": "ipython3",
   "version": "3.10.8"
  }
 },
 "nbformat": 4,
 "nbformat_minor": 5
}
